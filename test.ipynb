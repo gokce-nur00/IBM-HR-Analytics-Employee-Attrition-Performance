{
 "cells": [
  {
   "cell_type": "code",
   "execution_count": 1,
   "id": "6f630587",
   "metadata": {},
   "outputs": [],
   "source": [
    "import pickle\n",
    "import numpy as np\n",
    "import pandas as pd\n",
    "import matplotlib.pyplot as plt\n",
    "import seaborn as sns\n",
    "from sklearn.model_selection import cross_val_predict,cross_val_score, train_test_split\n",
    "from sklearn.metrics import classification_report, confusion_matrix\n",
    "from sklearn.pipeline import Pipeline\n",
    "from sklearn.base import BaseEstimator, TransformerMixin\n",
    "from sklearn.preprocessing import MinMaxScaler\n",
    "from sklearn.model_selection import cross_val_predict,cross_val_score, train_test_split, learning_curve\n",
    "from sklearn.feature_selection import SelectKBest, chi2\n",
    "import os"
   ]
  },
  {
   "cell_type": "code",
   "execution_count": 2,
   "id": "b37b4130",
   "metadata": {},
   "outputs": [
    {
     "name": "stdout",
     "output_type": "stream",
     "text": [
      "['.ipynb_checkpoints', '181101059.html', '181101059.ipynb', '181101059.pdf', '181101059_test.ipynb', 'model.pkl', 'preprocessing.pkl', 'requirements.txt', 'WA_Fn-UseC_-HR-Employee-Attrition.csv']\n"
     ]
    }
   ],
   "source": [
    "print(os.listdir(\"../181101059\"))"
   ]
  },
  {
   "cell_type": "code",
   "execution_count": 3,
   "id": "d559bfbf",
   "metadata": {},
   "outputs": [],
   "source": [
    "class ConvertingData(BaseEstimator, TransformerMixin):\n",
    "    def fit(self, X, y=None):\n",
    "        return self\n",
    "    \n",
    "    def transform(self, X):\n",
    "        X['Target'] = X['Attrition'].apply(lambda x: 0 if x == 'No' else 1)\n",
    "        X.drop(['EmployeeCount', 'StandardHours', 'Over18', 'Attrition'], axis=1,inplace=True)\n",
    "        arr_cat = X.select_dtypes(include='object')\n",
    "        dummy_col = [column for column in arr_cat if X[column].nunique() < 20]\n",
    "        return pd.get_dummies(X, columns=dummy_col, drop_first=True, dtype='int64')"
   ]
  },
  {
   "cell_type": "code",
   "execution_count": 4,
   "id": "575cd1e7",
   "metadata": {},
   "outputs": [],
   "source": [
    "class ScalerData(BaseEstimator, TransformerMixin):\n",
    "    def fit(self, X, y=None):\n",
    "        return self\n",
    "    \n",
    "    def transform(self, X):\n",
    "        target = X[\"Target\"]\n",
    "        scaler = MinMaxScaler()\n",
    "        scaled = list(X.columns)\n",
    "        scaled.remove('Target')\n",
    "        for col in scaled:\n",
    "            X[col] = X[col].astype(float)\n",
    "            X[[col]] = scaler.fit_transform(X[[col]])\n",
    "        return X"
   ]
  },
  {
   "cell_type": "code",
   "execution_count": 5,
   "id": "a1217c37",
   "metadata": {},
   "outputs": [],
   "source": [
    "class ChoosingKBest(BaseEstimator, TransformerMixin):\n",
    "    def fit(self, X, y=None):\n",
    "        return self\n",
    "    \n",
    "    def transform(self, X):\n",
    "        target = X[\"Target\"]\n",
    "        X = X.drop([\"Target\"], axis=1)\n",
    "        select = SelectKBest(score_func=chi2, k=5)\n",
    "        X = select.fit_transform(X,target)\n",
    "        X = pd.DataFrame(X)\n",
    "        X[\"Target\"] = target\n",
    "        return X"
   ]
  },
  {
   "cell_type": "code",
   "execution_count": 6,
   "id": "62386cd8",
   "metadata": {},
   "outputs": [],
   "source": [
    "model = pickle.load(open(\n",
    "    r'../181101059/model.pkl', 'rb'))"
   ]
  },
  {
   "cell_type": "code",
   "execution_count": 7,
   "id": "b882ae13",
   "metadata": {},
   "outputs": [],
   "source": [
    "pipeline = pickle.load(open(\n",
    "    r'../181101059/preprocessing.pkl', 'rb'))"
   ]
  },
  {
   "cell_type": "code",
   "execution_count": 8,
   "id": "dd47403f",
   "metadata": {},
   "outputs": [],
   "source": [
    "data = pd.read_csv(\"../181101059/WA_Fn-UseC_-HR-Employee-Attrition.csv\")"
   ]
  },
  {
   "cell_type": "code",
   "execution_count": 9,
   "id": "877cfb58",
   "metadata": {},
   "outputs": [],
   "source": [
    "data = pipeline.fit_transform(data)"
   ]
  },
  {
   "cell_type": "code",
   "execution_count": 10,
   "id": "6ca289c0",
   "metadata": {},
   "outputs": [
    {
     "data": {
      "text/html": [
       "<div>\n",
       "<style scoped>\n",
       "    .dataframe tbody tr th:only-of-type {\n",
       "        vertical-align: middle;\n",
       "    }\n",
       "\n",
       "    .dataframe tbody tr th {\n",
       "        vertical-align: top;\n",
       "    }\n",
       "\n",
       "    .dataframe thead th {\n",
       "        text-align: right;\n",
       "    }\n",
       "</style>\n",
       "<table border=\"1\" class=\"dataframe\">\n",
       "  <thead>\n",
       "    <tr style=\"text-align: right;\">\n",
       "      <th></th>\n",
       "      <th>0</th>\n",
       "      <th>1</th>\n",
       "      <th>2</th>\n",
       "      <th>3</th>\n",
       "      <th>4</th>\n",
       "      <th>Target</th>\n",
       "    </tr>\n",
       "  </thead>\n",
       "  <tbody>\n",
       "    <tr>\n",
       "      <th>0</th>\n",
       "      <td>0.25</td>\n",
       "      <td>0.0</td>\n",
       "      <td>0.0</td>\n",
       "      <td>1.0</td>\n",
       "      <td>1.0</td>\n",
       "      <td>1</td>\n",
       "    </tr>\n",
       "    <tr>\n",
       "      <th>1</th>\n",
       "      <td>0.25</td>\n",
       "      <td>1.0</td>\n",
       "      <td>0.0</td>\n",
       "      <td>0.0</td>\n",
       "      <td>0.0</td>\n",
       "      <td>0</td>\n",
       "    </tr>\n",
       "    <tr>\n",
       "      <th>2</th>\n",
       "      <td>0.00</td>\n",
       "      <td>0.0</td>\n",
       "      <td>0.0</td>\n",
       "      <td>1.0</td>\n",
       "      <td>1.0</td>\n",
       "      <td>1</td>\n",
       "    </tr>\n",
       "    <tr>\n",
       "      <th>3</th>\n",
       "      <td>0.00</td>\n",
       "      <td>1.0</td>\n",
       "      <td>0.0</td>\n",
       "      <td>0.0</td>\n",
       "      <td>1.0</td>\n",
       "      <td>0</td>\n",
       "    </tr>\n",
       "    <tr>\n",
       "      <th>4</th>\n",
       "      <td>0.00</td>\n",
       "      <td>0.0</td>\n",
       "      <td>0.0</td>\n",
       "      <td>0.0</td>\n",
       "      <td>0.0</td>\n",
       "      <td>0</td>\n",
       "    </tr>\n",
       "  </tbody>\n",
       "</table>\n",
       "</div>"
      ],
      "text/plain": [
       "      0    1    2    3    4  Target\n",
       "0  0.25  0.0  0.0  1.0  1.0       1\n",
       "1  0.25  1.0  0.0  0.0  0.0       0\n",
       "2  0.00  0.0  0.0  1.0  1.0       1\n",
       "3  0.00  1.0  0.0  0.0  1.0       0\n",
       "4  0.00  0.0  0.0  0.0  0.0       0"
      ]
     },
     "execution_count": 10,
     "metadata": {},
     "output_type": "execute_result"
    }
   ],
   "source": [
    "data.head()"
   ]
  },
  {
   "cell_type": "code",
   "execution_count": 11,
   "id": "11ebbb3b",
   "metadata": {},
   "outputs": [
    {
     "name": "stdout",
     "output_type": "stream",
     "text": [
      "[0.8537415  0.85714286 0.84353741 0.84693878 0.8537415 ]\n",
      "CPU times: total: 15.6 ms\n",
      "Wall time: 24.6 ms\n"
     ]
    }
   ],
   "source": [
    "%%time\n",
    "target = data[\"Target\"]\n",
    "data = data.loc[:, data.columns != 'Target']\n",
    "scores_test = cross_val_score(model, data, target, scoring='accuracy', cv=5)\n",
    "print(scores_test)"
   ]
  },
  {
   "cell_type": "code",
   "execution_count": 12,
   "id": "cbe32c8e",
   "metadata": {},
   "outputs": [
    {
     "name": "stdout",
     "output_type": "stream",
     "text": [
      "CPU times: total: 15.6 ms\n",
      "Wall time: 20.3 ms\n"
     ]
    }
   ],
   "source": [
    "%%time\n",
    "test_predict = cross_val_predict(model, data, target, cv=5)"
   ]
  },
  {
   "cell_type": "code",
   "execution_count": 13,
   "id": "500b8b98",
   "metadata": {},
   "outputs": [],
   "source": [
    "target_list = target.tolist()"
   ]
  },
  {
   "cell_type": "code",
   "execution_count": 14,
   "id": "380276a7",
   "metadata": {
    "scrolled": true
   },
   "outputs": [
    {
     "name": "stdout",
     "output_type": "stream",
     "text": [
      "\t\t\t\tCLASSIFICATIION METRICS\n",
      "\n",
      "              precision    recall  f1-score   support\n",
      "\n",
      "           1       0.86      0.98      0.92      1233\n",
      "           0       0.65      0.17      0.27       237\n",
      "\n",
      "    accuracy                           0.85      1470\n",
      "   macro avg       0.75      0.58      0.59      1470\n",
      "weighted avg       0.83      0.85      0.81      1470\n",
      "\n"
     ]
    }
   ],
   "source": [
    "print('\\t\\t\\t\\tCLASSIFICATIION METRICS\\n')\n",
    "print(classification_report(target_list, test_predict, \n",
    "                                    target_names= [\"1\",\"0\"]))"
   ]
  },
  {
   "cell_type": "code",
   "execution_count": 15,
   "id": "729993dc",
   "metadata": {},
   "outputs": [
    {
     "data": {
      "image/png": "[encoded data removed]",
      "text/plain": [
       "<Figure size 576x576 with 2 Axes>"
      ]
     },
     "metadata": {
      "needs_background": "light"
     },
     "output_type": "display_data"
    }
   ],
   "source": [
    "conf_mat = confusion_matrix(target_list, test_predict)\n",
    "fig, ax = plt.subplots(figsize=(8,8))\n",
    "sns.heatmap(conf_mat, annot=True, cmap=\"Blues\", fmt='d',\n",
    "            xticklabels=[\"1\",\"0\"], \n",
    "            yticklabels=[\"1\",\"0\"])\n",
    "plt.ylabel('Actual')\n",
    "plt.xlabel('Predicted')\n",
    "plt.title(\"CONFUSION MATRIX \\n\", size=16);"
   ]
  }
 ],
 "metadata": {
  "kernelspec": {
   "display_name": "Python 3 (ipykernel)",
   "language": "python",
   "name": "python3"
  },
  "language_info": {
   "codemirror_mode": {
    "name": "ipython",
    "version": 3
   },
   "file_extension": ".py",
   "mimetype": "text/x-python",
   "name": "python",
   "nbconvert_exporter": "python",
   "pygments_lexer": "ipython3",
   "version": "3.9.13"
  }
 },
 "nbformat": 4,
 "nbformat_minor": 5
}
